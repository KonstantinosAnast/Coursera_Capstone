{
 "cells": [
  {
   "cell_type": "markdown",
   "metadata": {},
   "source": [
    "## Maintaing Social Distancing during COVID-19\n",
    "The world is getting affected with COVID-19 and we do not have enough medications to fight with this pandemic. But certainly there are a lot of measures that can be taken in order to avoid or minimize this pandemic\n",
    "\n",
    "Unfortunately this is not taken in srious actions and the effect caused are increasing day by day. Governemnt need to force people not to crowd or gather together.\n",
    "\n",
    "In this project, I will analyze different parts of Pandemic, using Foursquare API, information from Wikipedia, and data from OpenStreetMaps, to find out the places which are crowded in real time and will infrom the concerned authorities about this. I will use different criteria, which I consider important.\n",
    "\n",
    "Please take into account, that this project is simplified and inlcudes only some basic criteria, thus it does not reflect whole reality.\n",
    "\n",
    "## Usage of data in planning\n",
    "For our project, I decided to set several criteria, which may be important for analysis of different locations. But before that, we need to decide how to determine what is part of Pandemic.\n",
    "\n",
    "- Dividing city into different neighborhoods / districts\n",
    "- The data will be divided on the basis of districcts.\n",
    "- The location getting higher than expected number of users will be regarded as danger zone.\n",
    "\n",
    "When the specific location gathers more number of people it will notify the concerned authorities.\n",
    "For our purpose, it is best to use Cadastral areas, as they are smaller (thus more precise) than Administrative or Municipal districts.\n",
    "\n",
    "## Selecting our criteria\n",
    "As our criteria I decided to ask following questions, about each district:\n",
    "\n",
    "- How much is the district good for relaxation?\n",
    "- What is the size of nature areas (forests, parks,...) available to public in the district? (available on OpenStreetMaps)\n",
    "- How many clubs, bars and hotels are in the district? These places usually attract people who wants to enjoy their free time, so there could be problems . This data is also available on Foursquare.\n",
    "- Also what is the population density - more people means usually more danger. This is available on Wikipedia\n",
    "- How much is the district suitable in terms of public services?\n",
    "- How many hospitals, pharmacies, and clinics are in the district? (available on Foursquare)\n",
    "- How many stores and supermarkets are in the district? (available on Foursquare)\n",
    "- Is there any public transport station? (available on Foursquare)\n",
    "- There is more criteria which could be considered, but for purpose of our project, these should be enough.\n",
    "\n",
    "## How the data will be used and processed\n",
    "For figuring out solution for this problem, we will do multiple clustering of districts according to different criteria. This will show us how districts can be grouped according each of criteria. Each of this criteria can be quantified and it can be told, whether higher values of that criteria are better or worse for purpose of the project. Then we will try to find intersection of districts, that were grouped into best, or at least not worst (for criteria that are less important) clusters according to each criteria."
   ]
  },
  {
   "cell_type": "markdown",
   "metadata": {},
   "source": [
    "## Data Walkthrough \n",
    "Coronavirus disease 2019 (COVID-19) time series listing confirmed cases, reported deaths and reported recoveries. Data is disaggregated by country (and sometimes subregion). Coronavirus disease (COVID-19) is caused by the Severe acute respiratory syndrome Coronavirus 2 (SARS-CoV-2) and has had a worldwide effect. On March 11 2020, the World Health Organization (WHO) declared it a pandemic, pointing to the over 118,000 cases of the coronavirus illness in over 110 countries and territories around the world at the time.\n",
    "\n",
    "This dataset includes time series data tracking the number of people affected by COVID-19 worldwide, including:\n",
    "\n",
    "- confirmed tested cases of Coronavirus infection\n",
    "- the number of people who have reportedly died while sick with Coronavirus\n",
    "- the number of people who have reportedly recovered from it"
   ]
  },
  {
   "cell_type": "markdown",
   "metadata": {},
   "source": [
    "## Data Walkthrough \n",
    "Coronavirus disease 2019 (COVID-19) time series listing confirmed cases, reported deaths and reported recoveries. Data is disaggregated by country (and sometimes subregion). Coronavirus disease (COVID-19) is caused by the Severe acute respiratory syndrome Coronavirus 2 (SARS-CoV-2) and has had a worldwide effect. On March 11 2020, the World Health Organization (WHO) declared it a pandemic, pointing to the over 118,000 cases of the coronavirus illness in over 110 countries and territories around the world at the time.\n",
    "\n",
    "This dataset includes time series data tracking the number of people affected by COVID-19 worldwide, including:\n",
    "\n",
    "confirmed tested cases of Coronavirus infection\n",
    "the number of people who have reportedly died while sick with Coronavirus\n",
    "the number of people who have reportedly recovered from it"
   ]
  },
  {
   "cell_type": "code",
   "execution_count": null,
   "metadata": {},
   "outputs": [],
   "source": []
  }
 ],
 "metadata": {
  "kernelspec": {
   "display_name": "Python 3",
   "language": "python",
   "name": "python3"
  },
  "language_info": {
   "codemirror_mode": {
    "name": "ipython",
    "version": 3
   },
   "file_extension": ".py",
   "mimetype": "text/x-python",
   "name": "python",
   "nbconvert_exporter": "python",
   "pygments_lexer": "ipython3",
   "version": "3.7.6"
  }
 },
 "nbformat": 4,
 "nbformat_minor": 4
}
